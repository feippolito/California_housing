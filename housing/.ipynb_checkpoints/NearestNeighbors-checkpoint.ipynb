{
 "cells": [
  {
   "cell_type": "code",
   "execution_count": 1,
   "metadata": {
    "ExecuteTime": {
     "end_time": "2019-04-18T16:32:10.654833Z",
     "start_time": "2019-04-18T16:32:09.734120Z"
    }
   },
   "outputs": [],
   "source": [
    "import pandas as pd\n",
    "import numpy as np\n",
    "from sklearn.preprocessing import MinMaxScaler\n",
    "from sklearn.preprocessing import OneHotEncoder\n",
    "from sklearn.preprocessing import LabelEncoder\n",
    "from sklearn.neighbors import NearestNeighbors"
   ]
  },
  {
   "cell_type": "code",
   "execution_count": 2,
   "metadata": {
    "ExecuteTime": {
     "end_time": "2019-04-18T16:32:10.694388Z",
     "start_time": "2019-04-18T16:32:10.659300Z"
    }
   },
   "outputs": [],
   "source": [
    "class House:\n",
    "    def __init__(self):\n",
    "        self.housing = pd.read_csv('housing.csv',sep=',',decimal='.',encoding='utf-8')\n",
    "        self.housing_encoded = self.encode_fit_transform(self.housing)\n",
    "        \n",
    "        self.findKneighbors_fit(self.housing_encoded)\n",
    "        \n",
    "    def encode_fit_transform(self, database):\n",
    "        \n",
    "        #one hot encoder for ocean_proximity\n",
    "        self.onehot = OneHotEncoder(sparse=False, categories= 'auto')\n",
    "        ocean_labels=database.ocean_proximity.values.reshape(-1, 1)\n",
    "        onehot_ocean_labels = self.onehot.fit_transform(ocean_labels)\n",
    "        \n",
    "        #concatenate onehot encoded values to dataframe\n",
    "        dfOneHot = pd.DataFrame(onehot_ocean_labels,\n",
    "                                columns = [\"Ocean_\"+str(int(i)) for i in range(onehot_ocean_labels.shape[1])])\n",
    "        encoded_database = pd.concat([database, dfOneHot], axis=1)\n",
    "        \n",
    "        #clean dataframe\n",
    "        encoded_database.drop('ocean_proximity', axis = 1, inplace = True) #drop ocean_proximity original column\n",
    "        encoded_database.dropna(axis=0, how='any',inplace = True) #drop NaN\n",
    "        \n",
    "        #dataframe columns\n",
    "        self.columns = encoded_database.columns.tolist()\n",
    "        \n",
    "        #normilize values all columns\n",
    "        self.scaler = MinMaxScaler()\n",
    "        encoded_database[self.columns] = self.scaler.fit_transform(encoded_database[self.columns])\n",
    "        \n",
    "        return encoded_database\n",
    "    \n",
    "    def findKneighbors_fit(self, database):\n",
    "        self.nNeighbors = NearestNeighbors(n_neighbors=2, algorithm='ball_tree').fit(database)        \n",
    "    \n",
    "    def transform(self, sample):\n",
    "        columns_ = ['longitude', 'latitude', 'housing_median_age', 'total_rooms',\n",
    "                    'total_bedrooms', 'population', 'households', 'median_income',\n",
    "                    'median_house_value', 'ocean_proximity']\n",
    "\n",
    "        #transform list to dataframe\n",
    "        sample_df = pd.DataFrame(columns = columns_)\n",
    "        sample_df.loc[0] = sample\n",
    "        \n",
    "        #transform\n",
    "        #onehot encoder\n",
    "        ocean_labels=sample_df.ocean_proximity.values.reshape(-1, 1)\n",
    "        onehot_ocean_labels = self.onehot.transform(ocean_labels)\n",
    "        \n",
    "        #concatenate onehot encoded values to dataframe\n",
    "        dfOneHot = pd.DataFrame(onehot_ocean_labels,\n",
    "                                columns = [\"Ocean_\"+str(int(i)) for i in range(onehot_ocean_labels.shape[1])])\n",
    "        encoded_sample = pd.concat([sample_df, dfOneHot], axis=1)\n",
    "        \n",
    "        encoded_sample.drop('ocean_proximity', axis = 1, inplace = True) #drop ocean_proximity original column\n",
    "        \n",
    "        \n",
    "        encoded_sample[self.columns] = self.scaler.transform(encoded_sample[self.columns]).astype(float)\n",
    "        \n",
    "        return encoded_sample\n",
    "    \n",
    "    def findKneighbors(self,sample, n_kneighbors = 5):\n",
    "        self.encoded_sample = self.transform(sample)\n",
    "        dist, ind = self.nNeighbors.kneighbors(self.encoded_sample, n_kneighbors)\n",
    "        return self.housing.loc[ind[0].tolist()]\n",
    "        "
   ]
  },
  {
   "cell_type": "code",
   "execution_count": 3,
   "metadata": {
    "ExecuteTime": {
     "end_time": "2019-04-18T16:32:10.968727Z",
     "start_time": "2019-04-18T16:32:10.698033Z"
    }
   },
   "outputs": [],
   "source": [
    "house1 = House()"
   ]
  },
  {
   "cell_type": "code",
   "execution_count": 5,
   "metadata": {
    "ExecuteTime": {
     "end_time": "2019-04-18T16:39:47.979369Z",
     "start_time": "2019-04-18T16:39:47.942754Z"
    }
   },
   "outputs": [],
   "source": [
    "datatable1 = house1.findKneighbors([-120.24,\n",
    " 32.85,\n",
    " 54.0,\n",
    " 1467.0,\n",
    " 190.0,\n",
    " 496.0,\n",
    " 177.0,\n",
    " 7.2574,\n",
    " 352100.0,\n",
    " 'NEAR BAY'], 10)"
   ]
  },
  {
   "cell_type": "code",
   "execution_count": 10,
   "metadata": {
    "ExecuteTime": {
     "end_time": "2019-04-18T16:40:57.038506Z",
     "start_time": "2019-04-18T16:40:57.025141Z"
    }
   },
   "outputs": [
    {
     "data": {
      "text/plain": [
       "16972    2.067485\n",
       "156      2.607555\n",
       "158      3.205011\n",
       "141      2.921279\n",
       "2        2.957661\n",
       "15868    1.155675\n",
       "154      2.866797\n",
       "15850    1.559322\n",
       "124      2.899001\n",
       "401      2.317021\n",
       "dtype: float64"
      ]
     },
     "execution_count": 10,
     "metadata": {},
     "output_type": "execute_result"
    }
   ],
   "source": [
    "datatable1['total_rooms'] / datatable1['population']"
   ]
  },
  {
   "cell_type": "code",
   "execution_count": 9,
   "metadata": {
    "ExecuteTime": {
     "end_time": "2019-04-18T16:40:52.574368Z",
     "start_time": "2019-04-18T16:40:52.540966Z"
    }
   },
   "outputs": [
    {
     "data": {
      "text/html": [
       "<div>\n",
       "<style scoped>\n",
       "    .dataframe tbody tr th:only-of-type {\n",
       "        vertical-align: middle;\n",
       "    }\n",
       "\n",
       "    .dataframe tbody tr th {\n",
       "        vertical-align: top;\n",
       "    }\n",
       "\n",
       "    .dataframe thead th {\n",
       "        text-align: right;\n",
       "    }\n",
       "</style>\n",
       "<table border=\"1\" class=\"dataframe\">\n",
       "  <thead>\n",
       "    <tr style=\"text-align: right;\">\n",
       "      <th></th>\n",
       "      <th>longitude</th>\n",
       "      <th>latitude</th>\n",
       "      <th>housing_median_age</th>\n",
       "      <th>total_rooms</th>\n",
       "      <th>total_bedrooms</th>\n",
       "      <th>population</th>\n",
       "      <th>households</th>\n",
       "      <th>median_income</th>\n",
       "      <th>median_house_value</th>\n",
       "      <th>ocean_proximity</th>\n",
       "    </tr>\n",
       "  </thead>\n",
       "  <tbody>\n",
       "    <tr>\n",
       "      <th>16972</th>\n",
       "      <td>-122.31</td>\n",
       "      <td>37.56</td>\n",
       "      <td>45.0</td>\n",
       "      <td>1685.0</td>\n",
       "      <td>321.0</td>\n",
       "      <td>815.0</td>\n",
       "      <td>314.0</td>\n",
       "      <td>4.2955</td>\n",
       "      <td>309700.0</td>\n",
       "      <td>NEAR OCEAN</td>\n",
       "    </tr>\n",
       "    <tr>\n",
       "      <th>156</th>\n",
       "      <td>-122.24</td>\n",
       "      <td>37.81</td>\n",
       "      <td>52.0</td>\n",
       "      <td>2485.0</td>\n",
       "      <td>313.0</td>\n",
       "      <td>953.0</td>\n",
       "      <td>327.0</td>\n",
       "      <td>6.8591</td>\n",
       "      <td>352400.0</td>\n",
       "      <td>NEAR BAY</td>\n",
       "    </tr>\n",
       "    <tr>\n",
       "      <th>158</th>\n",
       "      <td>-122.23</td>\n",
       "      <td>37.81</td>\n",
       "      <td>52.0</td>\n",
       "      <td>2814.0</td>\n",
       "      <td>365.0</td>\n",
       "      <td>878.0</td>\n",
       "      <td>352.0</td>\n",
       "      <td>7.5080</td>\n",
       "      <td>348700.0</td>\n",
       "      <td>NEAR BAY</td>\n",
       "    </tr>\n",
       "    <tr>\n",
       "      <th>141</th>\n",
       "      <td>-122.21</td>\n",
       "      <td>37.82</td>\n",
       "      <td>52.0</td>\n",
       "      <td>2375.0</td>\n",
       "      <td>333.0</td>\n",
       "      <td>813.0</td>\n",
       "      <td>350.0</td>\n",
       "      <td>7.0549</td>\n",
       "      <td>331400.0</td>\n",
       "      <td>NEAR BAY</td>\n",
       "    </tr>\n",
       "    <tr>\n",
       "      <th>2</th>\n",
       "      <td>-122.24</td>\n",
       "      <td>37.85</td>\n",
       "      <td>52.0</td>\n",
       "      <td>1467.0</td>\n",
       "      <td>190.0</td>\n",
       "      <td>496.0</td>\n",
       "      <td>177.0</td>\n",
       "      <td>7.2574</td>\n",
       "      <td>352100.0</td>\n",
       "      <td>NEAR BAY</td>\n",
       "    </tr>\n",
       "    <tr>\n",
       "      <th>15868</th>\n",
       "      <td>-122.41</td>\n",
       "      <td>37.76</td>\n",
       "      <td>52.0</td>\n",
       "      <td>3452.0</td>\n",
       "      <td>784.0</td>\n",
       "      <td>2987.0</td>\n",
       "      <td>753.0</td>\n",
       "      <td>2.8135</td>\n",
       "      <td>260300.0</td>\n",
       "      <td>NEAR BAY</td>\n",
       "    </tr>\n",
       "    <tr>\n",
       "      <th>154</th>\n",
       "      <td>-122.22</td>\n",
       "      <td>37.81</td>\n",
       "      <td>52.0</td>\n",
       "      <td>2927.0</td>\n",
       "      <td>402.0</td>\n",
       "      <td>1021.0</td>\n",
       "      <td>380.0</td>\n",
       "      <td>8.1564</td>\n",
       "      <td>390100.0</td>\n",
       "      <td>NEAR BAY</td>\n",
       "    </tr>\n",
       "    <tr>\n",
       "      <th>15850</th>\n",
       "      <td>-122.44</td>\n",
       "      <td>37.74</td>\n",
       "      <td>23.0</td>\n",
       "      <td>184.0</td>\n",
       "      <td>44.0</td>\n",
       "      <td>118.0</td>\n",
       "      <td>40.0</td>\n",
       "      <td>4.5375</td>\n",
       "      <td>350000.0</td>\n",
       "      <td>NEAR BAY</td>\n",
       "    </tr>\n",
       "    <tr>\n",
       "      <th>124</th>\n",
       "      <td>-122.24</td>\n",
       "      <td>37.85</td>\n",
       "      <td>52.0</td>\n",
       "      <td>2612.0</td>\n",
       "      <td>365.0</td>\n",
       "      <td>901.0</td>\n",
       "      <td>367.0</td>\n",
       "      <td>7.2354</td>\n",
       "      <td>391100.0</td>\n",
       "      <td>NEAR BAY</td>\n",
       "    </tr>\n",
       "    <tr>\n",
       "      <th>401</th>\n",
       "      <td>-122.29</td>\n",
       "      <td>37.89</td>\n",
       "      <td>52.0</td>\n",
       "      <td>2178.0</td>\n",
       "      <td>421.0</td>\n",
       "      <td>940.0</td>\n",
       "      <td>423.0</td>\n",
       "      <td>5.0551</td>\n",
       "      <td>232200.0</td>\n",
       "      <td>NEAR BAY</td>\n",
       "    </tr>\n",
       "  </tbody>\n",
       "</table>\n",
       "</div>"
      ],
      "text/plain": [
       "       longitude  latitude  housing_median_age  total_rooms  total_bedrooms  \\\n",
       "16972    -122.31     37.56                45.0       1685.0           321.0   \n",
       "156      -122.24     37.81                52.0       2485.0           313.0   \n",
       "158      -122.23     37.81                52.0       2814.0           365.0   \n",
       "141      -122.21     37.82                52.0       2375.0           333.0   \n",
       "2        -122.24     37.85                52.0       1467.0           190.0   \n",
       "15868    -122.41     37.76                52.0       3452.0           784.0   \n",
       "154      -122.22     37.81                52.0       2927.0           402.0   \n",
       "15850    -122.44     37.74                23.0        184.0            44.0   \n",
       "124      -122.24     37.85                52.0       2612.0           365.0   \n",
       "401      -122.29     37.89                52.0       2178.0           421.0   \n",
       "\n",
       "       population  households  median_income  median_house_value  \\\n",
       "16972       815.0       314.0         4.2955            309700.0   \n",
       "156         953.0       327.0         6.8591            352400.0   \n",
       "158         878.0       352.0         7.5080            348700.0   \n",
       "141         813.0       350.0         7.0549            331400.0   \n",
       "2           496.0       177.0         7.2574            352100.0   \n",
       "15868      2987.0       753.0         2.8135            260300.0   \n",
       "154        1021.0       380.0         8.1564            390100.0   \n",
       "15850       118.0        40.0         4.5375            350000.0   \n",
       "124         901.0       367.0         7.2354            391100.0   \n",
       "401         940.0       423.0         5.0551            232200.0   \n",
       "\n",
       "      ocean_proximity  \n",
       "16972      NEAR OCEAN  \n",
       "156          NEAR BAY  \n",
       "158          NEAR BAY  \n",
       "141          NEAR BAY  \n",
       "2            NEAR BAY  \n",
       "15868        NEAR BAY  \n",
       "154          NEAR BAY  \n",
       "15850        NEAR BAY  \n",
       "124          NEAR BAY  \n",
       "401          NEAR BAY  "
      ]
     },
     "execution_count": 9,
     "metadata": {},
     "output_type": "execute_result"
    }
   ],
   "source": [
    "datatable1"
   ]
  }
 ],
 "metadata": {
  "kernelspec": {
   "display_name": "Python 3",
   "language": "python",
   "name": "python3"
  },
  "language_info": {
   "codemirror_mode": {
    "name": "ipython",
    "version": 3
   },
   "file_extension": ".py",
   "mimetype": "text/x-python",
   "name": "python",
   "nbconvert_exporter": "python",
   "pygments_lexer": "ipython3",
   "version": "3.6.8"
  },
  "varInspector": {
   "cols": {
    "lenName": 16,
    "lenType": 16,
    "lenVar": 40
   },
   "kernels_config": {
    "python": {
     "delete_cmd_postfix": "",
     "delete_cmd_prefix": "del ",
     "library": "var_list.py",
     "varRefreshCmd": "print(var_dic_list())"
    },
    "r": {
     "delete_cmd_postfix": ") ",
     "delete_cmd_prefix": "rm(",
     "library": "var_list.r",
     "varRefreshCmd": "cat(var_dic_list()) "
    }
   },
   "types_to_exclude": [
    "module",
    "function",
    "builtin_function_or_method",
    "instance",
    "_Feature"
   ],
   "window_display": false
  }
 },
 "nbformat": 4,
 "nbformat_minor": 2
}
