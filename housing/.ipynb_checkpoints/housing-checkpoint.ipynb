{
 "cells": [
  {
   "cell_type": "markdown",
   "metadata": {},
   "source": [
    "dataset:\n",
    "http://www.dcc.fc.up.pt/~ltorgo/Regression/cal_housing.html"
   ]
  },
  {
   "cell_type": "code",
   "execution_count": 1,
   "metadata": {
    "ExecuteTime": {
     "end_time": "2019-05-11T14:42:42.893648Z",
     "start_time": "2019-05-11T14:42:34.112658Z"
    }
   },
   "outputs": [],
   "source": [
    "import pandas as pd\n",
    "import numpy as np\n",
    "from sklearn.preprocessing import MinMaxScaler\n",
    "from sklearn.preprocessing import OneHotEncoder\n",
    "from sklearn.preprocessing import LabelEncoder\n",
    "from sklearn.neighbors import NearestNeighbors"
   ]
  },
  {
   "cell_type": "code",
   "execution_count": 12,
   "metadata": {
    "ExecuteTime": {
     "end_time": "2019-05-11T14:42:42.930576Z",
     "start_time": "2019-05-11T14:42:42.906365Z"
    }
   },
   "outputs": [],
   "source": [
    "class Housing:\n",
    "    def __init__(self):\n",
    "        self.housing = pd.read_csv('housing.csv',sep=',',decimal='.',encoding='utf-8')\n",
    "\n",
    "        \n",
    "    def encode_fit_transform(self, database):\n",
    "        \n",
    "        # one hot encoder for ocean_proximity\n",
    "        self.onehot = OneHotEncoder(sparse=False, categories= 'auto')\n",
    "        ocean_labels=database.ocean_proximity.values.reshape(-1, 1)\n",
    "        onehot_ocean_labels = self.onehot.fit_transform(ocean_labels)\n",
    "        \n",
    "        # concatenate onehot encoded values to dataframe\n",
    "        dfOneHot = pd.DataFrame(onehot_ocean_labels,\n",
    "                                columns = [\"Ocean_\"+str(int(i)) for i in range(onehot_ocean_labels.shape[1])])\n",
    "        encoded_database = pd.concat([database, dfOneHot], axis=1)\n",
    "        \n",
    "        #clean dataframe\n",
    "        encoded_database.drop('ocean_proximity', axis = 1, inplace = True) #drop ocean_proximity original column\n",
    "        encoded_database.dropna(axis=0, how='any',inplace = True) #drop NaN\n",
    "        \n",
    "        #dataframe columns\n",
    "        self.columns = encoded_database.columns.tolist()\n",
    "        \n",
    "        #normilize values all columns\n",
    "        self.scaler = MinMaxScaler()\n",
    "        encoded_database[self.columns] = self.scaler.fit_transform(encoded_database[self.columns])\n",
    "        return encoded_database\n",
    "    \n",
    "    def findKneighbors_fit(self, database):\n",
    "        self.nNeighbors = NearestNeighbors(n_neighbors=2, algorithm='ball_tree').fit(database)        \n",
    "    \n",
    "    def transform(self, sample_df):\n",
    "        \n",
    "        #transform\n",
    "        #onehot encoder\n",
    "        ocean_labels=self.sample_df.ocean_proximity.values.reshape(-1, 1)\n",
    "        onehot_ocean_labels = self.onehot.transform(ocean_labels)\n",
    "        \n",
    "        #concatenate onehot encoded values to dataframe\n",
    "        dfOneHot = pd.DataFrame(onehot_ocean_labels,\n",
    "                                columns = [\"Ocean_\"+str(int(i)) for i in range(onehot_ocean_labels.shape[1])])\n",
    "        encoded_sample = pd.concat([self.sample_df, dfOneHot], axis=1)\n",
    "        encoded_sample.drop('ocean_proximity', axis = 1, inplace = True) #drop ocean_proximity original column\n",
    "        \n",
    "        \n",
    "        encoded_sample[self.columns] = self.scaler.transform(encoded_sample[self.columns]).astype(float)\n",
    "        \n",
    "        return encoded_sample\n",
    "    \n",
    "    def findKneighbors(self,sample, n_kneighbors = 5):\n",
    "        housing_ = self.housing.copy(deep = True)\n",
    "        \n",
    "        n_none = [i for i in range(len(sample)) if sample[i] == None]\n",
    "        \n",
    "        # Transform list to dataframe\n",
    "        columns_ = ['longitude', 'latitude', 'housing_median_age', 'total_rooms',\n",
    "                    'total_bedrooms', 'population', 'households', 'median_income',\n",
    "                    'median_house_value', 'ocean_proximity']\n",
    "\n",
    "        for index in sorted(n_none, reverse=True):\n",
    "            del columns_[index]\n",
    "            del sample[index]\n",
    "        \n",
    "        # transform list to dataframe\n",
    "        sample_df = pd.DataFrame(columns = columns_)\n",
    "        sample_df.loc[0] = sample\n",
    "        \n",
    "        if len(n_none) != 0:\n",
    "            housing_.drop(housing_.columns[n_none],axis=1, inplace=True)\n",
    "        \n",
    "        housing_encoded = self.encode_fit_transform(housing_)\n",
    "        findKneighbors_fit(housing_encoded)\n",
    "        \n",
    "        encoded_sample = self.transform(sample_df)\n",
    "        dist, ind = nNeighbors.kneighbors(encoded_sample, n_kneighbors)\n",
    "        \n",
    "        return self.housing.loc[ind[0].tolist()]"
   ]
  },
  {
   "cell_type": "code",
   "execution_count": 13,
   "metadata": {
    "ExecuteTime": {
     "end_time": "2019-05-11T14:42:43.380768Z",
     "start_time": "2019-05-11T14:42:42.940445Z"
    }
   },
   "outputs": [],
   "source": [
    "house1 = Housing()"
   ]
  },
  {
   "cell_type": "code",
   "execution_count": 16,
   "metadata": {
    "ExecuteTime": {
     "end_time": "2019-05-11T14:43:42.395864Z",
     "start_time": "2019-05-11T14:43:42.364180Z"
    }
   },
   "outputs": [
    {
     "ename": "IndexError",
     "evalue": "index 9 is out of bounds for axis 0 with size 9",
     "output_type": "error",
     "traceback": [
      "\u001b[1;31m---------------------------------------------------------------------------\u001b[0m",
      "\u001b[1;31mIndexError\u001b[0m                                Traceback (most recent call last)",
      "\u001b[1;32m<ipython-input-16-58d0aabc607d>\u001b[0m in \u001b[0;36m<module>\u001b[1;34m\u001b[0m\n\u001b[0;32m      1\u001b[0m returned = house1.findKneighbors([-120, 10, None, None, None, None,\n\u001b[1;32m----> 2\u001b[1;33m                                   None, None, None, None], 5)\n\u001b[0m\u001b[0;32m      3\u001b[0m \u001b[0mreturned\u001b[0m\u001b[1;33m\u001b[0m\u001b[1;33m\u001b[0m\u001b[0m\n",
      "\u001b[1;32m<ipython-input-12-ab1e00e2d3cb>\u001b[0m in \u001b[0;36mfindKneighbors\u001b[1;34m(self, sample, n_kneighbors)\u001b[0m\n\u001b[0;32m     67\u001b[0m         \u001b[1;32mif\u001b[0m \u001b[0mlen\u001b[0m\u001b[1;33m(\u001b[0m\u001b[0mn_none\u001b[0m\u001b[1;33m)\u001b[0m \u001b[1;33m!=\u001b[0m \u001b[1;36m0\u001b[0m\u001b[1;33m:\u001b[0m\u001b[1;33m\u001b[0m\u001b[1;33m\u001b[0m\u001b[0m\n\u001b[0;32m     68\u001b[0m             \u001b[1;31m#self.sample_df.drop(self.sample_df.columns[n_none],axis=1,inplace=True)\u001b[0m\u001b[1;33m\u001b[0m\u001b[1;33m\u001b[0m\u001b[1;33m\u001b[0m\u001b[0m\n\u001b[1;32m---> 69\u001b[1;33m             \u001b[0mself\u001b[0m\u001b[1;33m.\u001b[0m\u001b[0mhousing\u001b[0m\u001b[1;33m.\u001b[0m\u001b[0mdrop\u001b[0m\u001b[1;33m(\u001b[0m\u001b[0mself\u001b[0m\u001b[1;33m.\u001b[0m\u001b[0mhousing\u001b[0m\u001b[1;33m.\u001b[0m\u001b[0mcolumns\u001b[0m\u001b[1;33m[\u001b[0m\u001b[0mn_none\u001b[0m\u001b[1;33m]\u001b[0m\u001b[1;33m,\u001b[0m\u001b[0maxis\u001b[0m\u001b[1;33m=\u001b[0m\u001b[1;36m1\u001b[0m\u001b[1;33m,\u001b[0m \u001b[0minplace\u001b[0m\u001b[1;33m=\u001b[0m\u001b[1;32mTrue\u001b[0m\u001b[1;33m)\u001b[0m\u001b[1;33m\u001b[0m\u001b[1;33m\u001b[0m\u001b[0m\n\u001b[0m\u001b[0;32m     70\u001b[0m \u001b[1;33m\u001b[0m\u001b[0m\n\u001b[0;32m     71\u001b[0m         \u001b[0mself\u001b[0m\u001b[1;33m.\u001b[0m\u001b[0mhousing_encoded\u001b[0m \u001b[1;33m=\u001b[0m \u001b[0mself\u001b[0m\u001b[1;33m.\u001b[0m\u001b[0mencode_fit_transform\u001b[0m\u001b[1;33m(\u001b[0m\u001b[0mself\u001b[0m\u001b[1;33m.\u001b[0m\u001b[0mhousing\u001b[0m\u001b[1;33m)\u001b[0m\u001b[1;33m\u001b[0m\u001b[1;33m\u001b[0m\u001b[0m\n",
      "\u001b[1;32m~\\Anaconda3\\envs\\web_Flask\\lib\\site-packages\\pandas\\core\\indexes\\base.py\u001b[0m in \u001b[0;36m__getitem__\u001b[1;34m(self, key)\u001b[0m\n\u001b[0;32m   3967\u001b[0m \u001b[1;33m\u001b[0m\u001b[0m\n\u001b[0;32m   3968\u001b[0m         \u001b[0mkey\u001b[0m \u001b[1;33m=\u001b[0m \u001b[0mcom\u001b[0m\u001b[1;33m.\u001b[0m\u001b[0mvalues_from_object\u001b[0m\u001b[1;33m(\u001b[0m\u001b[0mkey\u001b[0m\u001b[1;33m)\u001b[0m\u001b[1;33m\u001b[0m\u001b[1;33m\u001b[0m\u001b[0m\n\u001b[1;32m-> 3969\u001b[1;33m         \u001b[0mresult\u001b[0m \u001b[1;33m=\u001b[0m \u001b[0mgetitem\u001b[0m\u001b[1;33m(\u001b[0m\u001b[0mkey\u001b[0m\u001b[1;33m)\u001b[0m\u001b[1;33m\u001b[0m\u001b[1;33m\u001b[0m\u001b[0m\n\u001b[0m\u001b[0;32m   3970\u001b[0m         \u001b[1;32mif\u001b[0m \u001b[1;32mnot\u001b[0m \u001b[0mis_scalar\u001b[0m\u001b[1;33m(\u001b[0m\u001b[0mresult\u001b[0m\u001b[1;33m)\u001b[0m\u001b[1;33m:\u001b[0m\u001b[1;33m\u001b[0m\u001b[1;33m\u001b[0m\u001b[0m\n\u001b[0;32m   3971\u001b[0m             \u001b[1;32mreturn\u001b[0m \u001b[0mpromote\u001b[0m\u001b[1;33m(\u001b[0m\u001b[0mresult\u001b[0m\u001b[1;33m)\u001b[0m\u001b[1;33m\u001b[0m\u001b[1;33m\u001b[0m\u001b[0m\n",
      "\u001b[1;31mIndexError\u001b[0m: index 9 is out of bounds for axis 0 with size 9"
     ]
    }
   ],
   "source": [
    "returned = house1.findKneighbors([-120, 10, None, None, None, None,\n",
    "                                  None, None, None, None], 5)\n",
    "returned"
   ]
  },
  {
   "cell_type": "code",
   "execution_count": null,
   "metadata": {},
   "outputs": [],
   "source": [
    "list_test = [-120.24, 5, None, 1467.0, 190.0, 496.0, 177.0, 7.2574, 352100.0, 'NEAR BAY']"
   ]
  },
  {
   "cell_type": "code",
   "execution_count": null,
   "metadata": {},
   "outputs": [],
   "source": [
    "n_none = [i for i in range(len(list_test)) if list_test[i] == None]"
   ]
  },
  {
   "cell_type": "code",
   "execution_count": null,
   "metadata": {},
   "outputs": [],
   "source": [
    "house1.columns"
   ]
  }
 ],
 "metadata": {
  "kernelspec": {
   "display_name": "Python 3",
   "language": "python",
   "name": "python3"
  },
  "language_info": {
   "codemirror_mode": {
    "name": "ipython",
    "version": 3
   },
   "file_extension": ".py",
   "mimetype": "text/x-python",
   "name": "python",
   "nbconvert_exporter": "python",
   "pygments_lexer": "ipython3",
   "version": "3.6.8"
  },
  "varInspector": {
   "cols": {
    "lenName": 16,
    "lenType": 16,
    "lenVar": 40
   },
   "kernels_config": {
    "python": {
     "delete_cmd_postfix": "",
     "delete_cmd_prefix": "del ",
     "library": "var_list.py",
     "varRefreshCmd": "print(var_dic_list())"
    },
    "r": {
     "delete_cmd_postfix": ") ",
     "delete_cmd_prefix": "rm(",
     "library": "var_list.r",
     "varRefreshCmd": "cat(var_dic_list()) "
    }
   },
   "types_to_exclude": [
    "module",
    "function",
    "builtin_function_or_method",
    "instance",
    "_Feature"
   ],
   "window_display": false
  }
 },
 "nbformat": 4,
 "nbformat_minor": 2
}
