{
 "cells": [
  {
   "cell_type": "code",
   "execution_count": 35,
   "metadata": {
    "ExecuteTime": {
     "end_time": "2019-04-23T18:43:46.974285Z",
     "start_time": "2019-04-23T18:43:46.970086Z"
    }
   },
   "outputs": [],
   "source": [
    "from housing import Housing"
   ]
  },
  {
   "cell_type": "code",
   "execution_count": 36,
   "metadata": {
    "ExecuteTime": {
     "end_time": "2019-04-23T18:43:48.497404Z",
     "start_time": "2019-04-23T18:43:48.491478Z"
    }
   },
   "outputs": [],
   "source": [
    "list_var = [-120.24, 32.85, 54.0, 1467.0, 190.0, 496.0, 177.0, 7.2574, 352100.0, 'NEAR BAY']"
   ]
  },
  {
   "cell_type": "code",
   "execution_count": 37,
   "metadata": {
    "ExecuteTime": {
     "end_time": "2019-04-23T18:43:49.213869Z",
     "start_time": "2019-04-23T18:43:49.050252Z"
    }
   },
   "outputs": [],
   "source": [
    "house1 = Housing()"
   ]
  },
  {
   "cell_type": "code",
   "execution_count": 38,
   "metadata": {
    "ExecuteTime": {
     "end_time": "2019-04-23T18:43:49.625444Z",
     "start_time": "2019-04-23T18:43:49.563035Z"
    }
   },
   "outputs": [
    {
     "data": {
      "text/html": [
       "<div>\n",
       "<style scoped>\n",
       "    .dataframe tbody tr th:only-of-type {\n",
       "        vertical-align: middle;\n",
       "    }\n",
       "\n",
       "    .dataframe tbody tr th {\n",
       "        vertical-align: top;\n",
       "    }\n",
       "\n",
       "    .dataframe thead th {\n",
       "        text-align: right;\n",
       "    }\n",
       "</style>\n",
       "<table border=\"1\" class=\"dataframe\">\n",
       "  <thead>\n",
       "    <tr style=\"text-align: right;\">\n",
       "      <th></th>\n",
       "      <th>longitude</th>\n",
       "      <th>latitude</th>\n",
       "      <th>housing_median_age</th>\n",
       "      <th>total_rooms</th>\n",
       "      <th>total_bedrooms</th>\n",
       "      <th>population</th>\n",
       "      <th>households</th>\n",
       "      <th>median_income</th>\n",
       "      <th>median_house_value</th>\n",
       "      <th>ocean_proximity</th>\n",
       "    </tr>\n",
       "  </thead>\n",
       "  <tbody>\n",
       "    <tr>\n",
       "      <th>16972</th>\n",
       "      <td>-122.31</td>\n",
       "      <td>37.56</td>\n",
       "      <td>45.0</td>\n",
       "      <td>1685.0</td>\n",
       "      <td>321.0</td>\n",
       "      <td>815.0</td>\n",
       "      <td>314.0</td>\n",
       "      <td>4.2955</td>\n",
       "      <td>309700.0</td>\n",
       "      <td>NEAR OCEAN</td>\n",
       "    </tr>\n",
       "    <tr>\n",
       "      <th>156</th>\n",
       "      <td>-122.24</td>\n",
       "      <td>37.81</td>\n",
       "      <td>52.0</td>\n",
       "      <td>2485.0</td>\n",
       "      <td>313.0</td>\n",
       "      <td>953.0</td>\n",
       "      <td>327.0</td>\n",
       "      <td>6.8591</td>\n",
       "      <td>352400.0</td>\n",
       "      <td>NEAR BAY</td>\n",
       "    </tr>\n",
       "    <tr>\n",
       "      <th>158</th>\n",
       "      <td>-122.23</td>\n",
       "      <td>37.81</td>\n",
       "      <td>52.0</td>\n",
       "      <td>2814.0</td>\n",
       "      <td>365.0</td>\n",
       "      <td>878.0</td>\n",
       "      <td>352.0</td>\n",
       "      <td>7.5080</td>\n",
       "      <td>348700.0</td>\n",
       "      <td>NEAR BAY</td>\n",
       "    </tr>\n",
       "    <tr>\n",
       "      <th>141</th>\n",
       "      <td>-122.21</td>\n",
       "      <td>37.82</td>\n",
       "      <td>52.0</td>\n",
       "      <td>2375.0</td>\n",
       "      <td>333.0</td>\n",
       "      <td>813.0</td>\n",
       "      <td>350.0</td>\n",
       "      <td>7.0549</td>\n",
       "      <td>331400.0</td>\n",
       "      <td>NEAR BAY</td>\n",
       "    </tr>\n",
       "  </tbody>\n",
       "</table>\n",
       "</div>"
      ],
      "text/plain": [
       "       longitude  latitude  housing_median_age  total_rooms  total_bedrooms  \\\n",
       "16972    -122.31     37.56                45.0       1685.0           321.0   \n",
       "156      -122.24     37.81                52.0       2485.0           313.0   \n",
       "158      -122.23     37.81                52.0       2814.0           365.0   \n",
       "141      -122.21     37.82                52.0       2375.0           333.0   \n",
       "\n",
       "       population  households  median_income  median_house_value  \\\n",
       "16972       815.0       314.0         4.2955            309700.0   \n",
       "156         953.0       327.0         6.8591            352400.0   \n",
       "158         878.0       352.0         7.5080            348700.0   \n",
       "141         813.0       350.0         7.0549            331400.0   \n",
       "\n",
       "      ocean_proximity  \n",
       "16972      NEAR OCEAN  \n",
       "156          NEAR BAY  \n",
       "158          NEAR BAY  \n",
       "141          NEAR BAY  "
      ]
     },
     "execution_count": 38,
     "metadata": {},
     "output_type": "execute_result"
    }
   ],
   "source": [
    "house1.findKneighbors(list_var, 4)"
   ]
  }
 ],
 "metadata": {
  "kernelspec": {
   "display_name": "Python 3",
   "language": "python",
   "name": "python3"
  },
  "language_info": {
   "codemirror_mode": {
    "name": "ipython",
    "version": 3
   },
   "file_extension": ".py",
   "mimetype": "text/x-python",
   "name": "python",
   "nbconvert_exporter": "python",
   "pygments_lexer": "ipython3",
   "version": "3.6.8"
  },
  "varInspector": {
   "cols": {
    "lenName": 16,
    "lenType": 16,
    "lenVar": 40
   },
   "kernels_config": {
    "python": {
     "delete_cmd_postfix": "",
     "delete_cmd_prefix": "del ",
     "library": "var_list.py",
     "varRefreshCmd": "print(var_dic_list())"
    },
    "r": {
     "delete_cmd_postfix": ") ",
     "delete_cmd_prefix": "rm(",
     "library": "var_list.r",
     "varRefreshCmd": "cat(var_dic_list()) "
    }
   },
   "types_to_exclude": [
    "module",
    "function",
    "builtin_function_or_method",
    "instance",
    "_Feature"
   ],
   "window_display": false
  }
 },
 "nbformat": 4,
 "nbformat_minor": 2
}
