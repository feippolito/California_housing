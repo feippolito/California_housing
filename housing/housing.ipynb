{
 "cells": [
  {
   "cell_type": "markdown",
   "metadata": {},
   "source": [
    "dataset:\n",
    "http://www.dcc.fc.up.pt/~ltorgo/Regression/cal_housing.html"
   ]
  },
  {
   "cell_type": "code",
   "execution_count": 1,
   "metadata": {
    "ExecuteTime": {
     "end_time": "2019-05-11T14:42:42.893648Z",
     "start_time": "2019-05-11T14:42:34.112658Z"
    }
   },
   "outputs": [],
   "source": [
    "import pandas as pd\n",
    "import numpy as np\n",
    "from sklearn.preprocessing import MinMaxScaler\n",
    "from sklearn.preprocessing import OneHotEncoder\n",
    "from sklearn.preprocessing import LabelEncoder\n",
    "from sklearn.neighbors import NearestNeighbors"
   ]
  },
  {
   "cell_type": "code",
   "execution_count": 2,
   "metadata": {
    "ExecuteTime": {
     "end_time": "2019-05-11T14:42:42.930576Z",
     "start_time": "2019-05-11T14:42:42.906365Z"
    }
   },
   "outputs": [],
   "source": [
    "class Housing:\n",
    "    def __init__(self):\n",
    "        self.housing = pd.read_csv('housing.csv',sep=',',decimal='.',encoding='utf-8')\n",
    "\n",
    "        \n",
    "    def encode_fit_transform(self, database):\n",
    "        \n",
    "        # one hot encoder for ocean_proximity\n",
    "        self.onehot = OneHotEncoder(sparse=False, categories= 'auto')\n",
    "        ocean_labels=database.ocean_proximity.values.reshape(-1, 1)\n",
    "        onehot_ocean_labels = self.onehot.fit_transform(ocean_labels)\n",
    "        \n",
    "        # concatenate onehot encoded values to dataframe\n",
    "        dfOneHot = pd.DataFrame(onehot_ocean_labels,\n",
    "                                columns = [\"Ocean_\"+str(int(i)) for i in range(onehot_ocean_labels.shape[1])])\n",
    "        encoded_database = pd.concat([database, dfOneHot], axis=1)\n",
    "        \n",
    "        #clean dataframe\n",
    "        encoded_database.drop('ocean_proximity', axis = 1, inplace = True) #drop ocean_proximity original column\n",
    "        encoded_database.dropna(axis=0, how='any',inplace = True) #drop NaN\n",
    "        \n",
    "        #dataframe columns\n",
    "        self.columns = encoded_database.columns.tolist()\n",
    "        \n",
    "        #normilize values all columns\n",
    "        self.scaler = MinMaxScaler()\n",
    "        encoded_database[self.columns] = self.scaler.fit_transform(encoded_database[self.columns])\n",
    "        return encoded_database\n",
    "    \n",
    "    def findKneighbors_fit(self, database):\n",
    "        self.nNeighbors = NearestNeighbors(n_neighbors=2, algorithm='ball_tree').fit(database)        \n",
    "    \n",
    "    def transform(self, sample_df):\n",
    "        \n",
    "        #transform\n",
    "        #onehot encoder\n",
    "        ocean_labels=self.sample_df.ocean_proximity.values.reshape(-1, 1)\n",
    "        onehot_ocean_labels = self.onehot.transform(ocean_labels)\n",
    "        \n",
    "        #concatenate onehot encoded values to dataframe\n",
    "        dfOneHot = pd.DataFrame(onehot_ocean_labels,\n",
    "                                columns = [\"Ocean_\"+str(int(i)) for i in range(onehot_ocean_labels.shape[1])])\n",
    "        encoded_sample = pd.concat([self.sample_df, dfOneHot], axis=1)\n",
    "        encoded_sample.drop('ocean_proximity', axis = 1, inplace = True) #drop ocean_proximity original column\n",
    "        \n",
    "        \n",
    "        encoded_sample[self.columns] = self.scaler.transform(encoded_sample[self.columns]).astype(float)\n",
    "        \n",
    "        return encoded_sample\n",
    "    \n",
    "    def findKneighbors(self,sample, n_kneighbors = 5):\n",
    "        self.housing_ = self.housing.copy(deep = True)\n",
    "        n_none = [i for i in range(len(sample)) if sample[i] == None]\n",
    "        \n",
    "        # Transform list to dataframe\n",
    "        columns_ = ['longitude', 'latitude', 'housing_median_age', 'total_rooms',\n",
    "                    'total_bedrooms', 'population', 'households', 'median_income',\n",
    "                    'median_house_value', 'ocean_proximity']\n",
    "\n",
    "        for index in sorted(n_none, reverse=True):\n",
    "            del columns_[index]\n",
    "            del sample[index]\n",
    "        \n",
    "        # transform list to dataframe\n",
    "        self.sample_df = pd.DataFrame(columns = columns_)\n",
    "        self.sample_df.loc[0] = sample\n",
    "        \n",
    "        if len(n_none) != 0:\n",
    "            #self.sample_df.drop(self.sample_df.columns[n_none],axis=1,inplace=True)\n",
    "            self.housing_.drop(self.housing_.columns[n_none],axis=1, inplace=True)\n",
    "        \n",
    "        self.housing_encoded = self.encode_fit_transform(self.housing_)\n",
    "        self.findKneighbors_fit(self.housing_encoded)\n",
    "        \n",
    "        self.encoded_sample = self.transform(self.sample_df)\n",
    "        dist, ind = self.nNeighbors.kneighbors(self.encoded_sample, n_kneighbors)\n",
    "        \n",
    "        return self.housing.loc[ind[0].tolist()]"
   ]
  },
  {
   "cell_type": "code",
   "execution_count": 3,
   "metadata": {
    "ExecuteTime": {
     "end_time": "2019-05-11T14:42:43.380768Z",
     "start_time": "2019-05-11T14:42:42.940445Z"
    }
   },
   "outputs": [],
   "source": [
    "house1 = Housing()"
   ]
  },
  {
   "cell_type": "code",
   "execution_count": null,
   "metadata": {
    "ExecuteTime": {
     "end_time": "2019-05-11T14:43:42.395864Z",
     "start_time": "2019-05-11T14:43:42.364180Z"
    }
   },
   "outputs": [],
   "source": [
    "returned = house1.findKneighbors([-120, 30, None, None, None, None,\n",
    "                                  None, None, None, 'NEAR BAY'], 5)\n",
    "returned"
   ]
  },
  {
   "cell_type": "code",
   "execution_count": null,
   "metadata": {},
   "outputs": [],
   "source": [
    "list_test = [-120.24, 5, None, 1467.0, 190.0, 496.0, 177.0, 7.2574, 352100.0, 'NEAR BAY']"
   ]
  },
  {
   "cell_type": "code",
   "execution_count": null,
   "metadata": {},
   "outputs": [],
   "source": [
    "n_none = [i for i in range(len(list_test)) if list_test[i] == None]"
   ]
  },
  {
   "cell_type": "code",
   "execution_count": 19,
   "metadata": {},
   "outputs": [],
   "source": [
    "a = ''"
   ]
  },
  {
   "cell_type": "code",
   "execution_count": 23,
   "metadata": {},
   "outputs": [
    {
     "data": {
      "text/plain": [
       "['1', '2', '5']"
      ]
     },
     "execution_count": 23,
     "metadata": {},
     "output_type": "execute_result"
    }
   ],
   "source": [
    "\n",
    "list"
   ]
  },
  {
   "cell_type": "code",
   "execution_count": 25,
   "metadata": {},
   "outputs": [
    {
     "data": {
      "text/plain": [
       "['1', '2', '5']"
      ]
     },
     "execution_count": 25,
     "metadata": {},
     "output_type": "execute_result"
    }
   ],
   "source": [
    "list = [ '1', '2', '5']\n",
    "for var in list:\n",
    "    var = float(var)\n",
    "    \n",
    "list"
   ]
  }
 ],
 "metadata": {
  "kernelspec": {
   "display_name": "Python 3",
   "language": "python",
   "name": "python3"
  },
  "language_info": {
   "codemirror_mode": {
    "name": "ipython",
    "version": 3
   },
   "file_extension": ".py",
   "mimetype": "text/x-python",
   "name": "python",
   "nbconvert_exporter": "python",
   "pygments_lexer": "ipython3",
   "version": "3.6.8"
  },
  "varInspector": {
   "cols": {
    "lenName": 16,
    "lenType": 16,
    "lenVar": 40
   },
   "kernels_config": {
    "python": {
     "delete_cmd_postfix": "",
     "delete_cmd_prefix": "del ",
     "library": "var_list.py",
     "varRefreshCmd": "print(var_dic_list())"
    },
    "r": {
     "delete_cmd_postfix": ") ",
     "delete_cmd_prefix": "rm(",
     "library": "var_list.r",
     "varRefreshCmd": "cat(var_dic_list()) "
    }
   },
   "types_to_exclude": [
    "module",
    "function",
    "builtin_function_or_method",
    "instance",
    "_Feature"
   ],
   "window_display": false
  }
 },
 "nbformat": 4,
 "nbformat_minor": 2
}
