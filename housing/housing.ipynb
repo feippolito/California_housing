{
 "cells": [
  {
   "cell_type": "markdown",
   "metadata": {},
   "source": [
    "dataset:\n",
    "http://www.dcc.fc.up.pt/~ltorgo/Regression/cal_housing.html"
   ]
  },
  {
   "cell_type": "code",
   "execution_count": 21,
   "metadata": {
    "ExecuteTime": {
     "end_time": "2019-05-11T14:42:42.893648Z",
     "start_time": "2019-05-11T14:42:34.112658Z"
    }
   },
   "outputs": [],
   "source": [
    "import pandas as pd\n",
    "import numpy as np\n",
    "from sklearn.preprocessing import MinMaxScaler\n",
    "from sklearn.preprocessing import OneHotEncoder\n",
    "from sklearn.preprocessing import LabelEncoder\n",
    "from sklearn.neighbors import NearestNeighbors"
   ]
  },
  {
   "cell_type": "code",
   "execution_count": 22,
   "metadata": {
    "ExecuteTime": {
     "end_time": "2019-05-11T14:42:42.930576Z",
     "start_time": "2019-05-11T14:42:42.906365Z"
    }
   },
   "outputs": [],
   "source": [
    "class Housing:\n",
    "    def __init__(self):\n",
    "        self.housing = pd.read_csv('new_housing.csv',sep=',',decimal='.',encoding='utf-8')\n",
    "\n",
    "        \n",
    "    def encode_fit_transform(self, database):\n",
    "        \n",
    "        # one hot encoder for ocean_proximity\n",
    "        self.onehot = OneHotEncoder(sparse=False, categories= 'auto')\n",
    "        ocean_labels=database['Ocean proximity'].values.reshape(-1, 1)\n",
    "        onehot_ocean_labels = self.onehot.fit_transform(ocean_labels)\n",
    "        \n",
    "        # concatenate onehot encoded values to dataframe\n",
    "        dfOneHot = pd.DataFrame(onehot_ocean_labels,\n",
    "                                columns = [\"Ocean_\"+str(int(i)) for i in range(onehot_ocean_labels.shape[1])])\n",
    "        encoded_database = pd.concat([database, dfOneHot], axis=1)\n",
    "        \n",
    "        #clean dataframe\n",
    "        encoded_database.drop('Ocean proximity', axis = 1, inplace = True) #drop ocean_proximity original column\n",
    "        encoded_database.dropna(axis=0, how='any',inplace = True) #drop NaN\n",
    "        \n",
    "        #dataframe columns\n",
    "        self.columns = encoded_database.columns.tolist()\n",
    "        \n",
    "        #normilize values all columns\n",
    "        self.scaler = MinMaxScaler()\n",
    "        encoded_database[self.columns] = self.scaler.fit_transform(encoded_database[self.columns])\n",
    "        return encoded_database\n",
    "    \n",
    "    def findKneighbors_fit(self, database):\n",
    "        self.nNeighbors = NearestNeighbors(n_neighbors=2, algorithm='ball_tree').fit(database)        \n",
    "    \n",
    "    def transform(self, sample_df):\n",
    "        \n",
    "        #transform\n",
    "        #onehot encoder\n",
    "        ocean_labels=self.sample_df['Ocean proximity'].values.reshape(-1, 1)\n",
    "        onehot_ocean_labels = self.onehot.transform(ocean_labels)\n",
    "        \n",
    "        #concatenate onehot encoded values to dataframe\n",
    "        dfOneHot = pd.DataFrame(onehot_ocean_labels,\n",
    "                                columns = [\"Ocean_\"+str(int(i)) for i in range(onehot_ocean_labels.shape[1])])\n",
    "        encoded_sample = pd.concat([self.sample_df, dfOneHot], axis=1)\n",
    "        encoded_sample.drop('Ocean proximity', axis = 1, inplace = True) #drop ocean_proximity original column\n",
    "        \n",
    "        \n",
    "        encoded_sample[self.columns] = self.scaler.transform(encoded_sample[self.columns]).astype(float)\n",
    "        \n",
    "        return encoded_sample\n",
    "    \n",
    "    def findKneighbors(self,sample, n_kneighbors = 5):\n",
    "        self.housing_ = self.housing.copy(deep = True)\n",
    "        n_none = [i for i in range(len(sample)) if sample[i] == None]\n",
    "        \n",
    "        # Transform list to dataframe\n",
    "        columns_ = ['Longitude', 'Latitude', 'Age', 'Total rooms', 'Total bedrooms',\n",
    "                    'Population', 'Households', 'Income', 'Price', 'Ocean proximity']\n",
    "        \n",
    "        for index in sorted(n_none, reverse=True):\n",
    "            del columns_[index]\n",
    "            del sample[index]\n",
    "        \n",
    "        # transform list to dataframe\n",
    "        self.sample_df = pd.DataFrame(columns = columns_)\n",
    "        self.sample_df.loc[0] = sample\n",
    "        \n",
    "        if len(n_none) != 0:\n",
    "            #self.sample_df.drop(self.sample_df.columns[n_none],axis=1,inplace=True)\n",
    "            self.housing_.drop(self.housing_.columns[n_none],axis=1, inplace=True)\n",
    "        \n",
    "        self.housing_encoded = self.encode_fit_transform(self.housing_)\n",
    "        self.findKneighbors_fit(self.housing_encoded)\n",
    "        \n",
    "        self.encoded_sample = self.transform(self.sample_df)\n",
    "        dist, ind = self.nNeighbors.kneighbors(self.encoded_sample, n_kneighbors)\n",
    "        \n",
    "        return self.housing.loc[ind[0].tolist()]"
   ]
  },
  {
   "cell_type": "code",
   "execution_count": 23,
   "metadata": {
    "ExecuteTime": {
     "end_time": "2019-05-11T14:42:43.380768Z",
     "start_time": "2019-05-11T14:42:42.940445Z"
    }
   },
   "outputs": [],
   "source": [
    "house1 = Housing()"
   ]
  },
  {
   "cell_type": "code",
   "execution_count": 24,
   "metadata": {
    "ExecuteTime": {
     "end_time": "2019-05-11T14:43:42.395864Z",
     "start_time": "2019-05-11T14:43:42.364180Z"
    }
   },
   "outputs": [
    {
     "data": {
      "text/html": [
       "<div>\n",
       "<style scoped>\n",
       "    .dataframe tbody tr th:only-of-type {\n",
       "        vertical-align: middle;\n",
       "    }\n",
       "\n",
       "    .dataframe tbody tr th {\n",
       "        vertical-align: top;\n",
       "    }\n",
       "\n",
       "    .dataframe thead th {\n",
       "        text-align: right;\n",
       "    }\n",
       "</style>\n",
       "<table border=\"1\" class=\"dataframe\">\n",
       "  <thead>\n",
       "    <tr style=\"text-align: right;\">\n",
       "      <th></th>\n",
       "      <th>Longitude</th>\n",
       "      <th>Latitude</th>\n",
       "      <th>Age</th>\n",
       "      <th>Total rooms</th>\n",
       "      <th>Total bedrooms</th>\n",
       "      <th>Population</th>\n",
       "      <th>Households</th>\n",
       "      <th>Income</th>\n",
       "      <th>Price</th>\n",
       "      <th>Ocean proximity</th>\n",
       "    </tr>\n",
       "  </thead>\n",
       "  <tbody>\n",
       "    <tr>\n",
       "      <th>9277</th>\n",
       "      <td>-122.58</td>\n",
       "      <td>38.12</td>\n",
       "      <td>13.0</td>\n",
       "      <td>1.0</td>\n",
       "      <td>1.0</td>\n",
       "      <td>1912.0</td>\n",
       "      <td>770.0</td>\n",
       "      <td>6160.750</td>\n",
       "      <td>604000.0</td>\n",
       "      <td>NEAR BAY</td>\n",
       "    </tr>\n",
       "    <tr>\n",
       "      <th>9282</th>\n",
       "      <td>-122.58</td>\n",
       "      <td>38.10</td>\n",
       "      <td>22.0</td>\n",
       "      <td>1.0</td>\n",
       "      <td>1.0</td>\n",
       "      <td>5600.0</td>\n",
       "      <td>2200.0</td>\n",
       "      <td>5807.875</td>\n",
       "      <td>537600.0</td>\n",
       "      <td>NEAR BAY</td>\n",
       "    </tr>\n",
       "    <tr>\n",
       "      <th>9274</th>\n",
       "      <td>-122.57</td>\n",
       "      <td>38.11</td>\n",
       "      <td>24.0</td>\n",
       "      <td>1.0</td>\n",
       "      <td>1.0</td>\n",
       "      <td>1583.0</td>\n",
       "      <td>682.0</td>\n",
       "      <td>3997.625</td>\n",
       "      <td>415600.0</td>\n",
       "      <td>NEAR BAY</td>\n",
       "    </tr>\n",
       "    <tr>\n",
       "      <th>9275</th>\n",
       "      <td>-122.57</td>\n",
       "      <td>38.11</td>\n",
       "      <td>32.0</td>\n",
       "      <td>1.0</td>\n",
       "      <td>1.0</td>\n",
       "      <td>1706.0</td>\n",
       "      <td>723.0</td>\n",
       "      <td>4338.125</td>\n",
       "      <td>442200.0</td>\n",
       "      <td>NEAR BAY</td>\n",
       "    </tr>\n",
       "    <tr>\n",
       "      <th>9283</th>\n",
       "      <td>-122.58</td>\n",
       "      <td>38.08</td>\n",
       "      <td>27.0</td>\n",
       "      <td>1.0</td>\n",
       "      <td>1.0</td>\n",
       "      <td>4406.0</td>\n",
       "      <td>1623.0</td>\n",
       "      <td>7018.750</td>\n",
       "      <td>556200.0</td>\n",
       "      <td>NEAR BAY</td>\n",
       "    </tr>\n",
       "  </tbody>\n",
       "</table>\n",
       "</div>"
      ],
      "text/plain": [
       "      Longitude  Latitude   Age  Total rooms  Total bedrooms  Population  \\\n",
       "9277    -122.58     38.12  13.0          1.0             1.0      1912.0   \n",
       "9282    -122.58     38.10  22.0          1.0             1.0      5600.0   \n",
       "9274    -122.57     38.11  24.0          1.0             1.0      1583.0   \n",
       "9275    -122.57     38.11  32.0          1.0             1.0      1706.0   \n",
       "9283    -122.58     38.08  27.0          1.0             1.0      4406.0   \n",
       "\n",
       "      Households    Income     Price Ocean proximity  \n",
       "9277       770.0  6160.750  604000.0        NEAR BAY  \n",
       "9282      2200.0  5807.875  537600.0        NEAR BAY  \n",
       "9274       682.0  3997.625  415600.0        NEAR BAY  \n",
       "9275       723.0  4338.125  442200.0        NEAR BAY  \n",
       "9283      1623.0  7018.750  556200.0        NEAR BAY  "
      ]
     },
     "execution_count": 24,
     "metadata": {},
     "output_type": "execute_result"
    }
   ],
   "source": [
    "returned = house1.findKneighbors([-125, 39, None, None, None, None,\n",
    "                                  None, None, None, 'NEAR BAY'], 5)\n",
    "returned"
   ]
  },
  {
   "cell_type": "markdown",
   "metadata": {},
   "source": [
    "# Create new DataFrame"
   ]
  },
  {
   "cell_type": "code",
   "execution_count": 7,
   "metadata": {},
   "outputs": [],
   "source": [
    "housing = pd.read_csv('housing.csv',sep=',',decimal='.',encoding='utf-8')\n",
    "new_housing = housing.copy(deep = True)\n",
    "new_housing['random1'] = np.random.randint(0,5,size=(len(new_housing),1))\n",
    "new_housing['random2'] = np.random.randint(0,5,size=(len(new_housing),1))\n",
    "\n",
    "new_housing['total_rooms'] = new_housing['total_rooms']/(new_housing['households']*(new_housing['population']/2.5)) + new_housing['random1']\n",
    "new_housing['total_bedrooms'] = new_housing['total_bedrooms']/(new_housing['households']*(new_housing['population']/4)) + new_housing['random2']\n",
    "\n",
    "new_housing['total_rooms'] = new_housing['total_rooms'].apply(np.ceil)\n",
    "new_housing['total_bedrooms'] = new_housing['total_bedrooms'].apply(np.ceil)\n",
    "new_housing['median_house_value'] = new_housing['median_house_value']*2 - 15000\n",
    "\n",
    "new_housing['median_income'] = new_housing['median_income']*1250\n",
    "\n",
    "new_housing.rename(index=str, columns={\"longitude\": \"Longitude\",\n",
    "                              \"latitude\": \"Latitude\",\n",
    "                              \"housing_median_age\": \"Age\",\n",
    "                              \"total_rooms\": \"Total rooms\",\n",
    "                              \"total_bedrooms\": \"Total bedrooms\",\n",
    "                              \"population\":\"Population\",\n",
    "                              \"households\":\"Households\",\n",
    "                              \"median_income\":\"Income\",\n",
    "                              \"median_house_value\":\"Price\",\n",
    "                              \"ocean_proximity\":\"Ocean proximity\"                              \n",
    "                             }, inplace = True)"
   ]
  },
  {
   "cell_type": "code",
   "execution_count": 31,
   "metadata": {},
   "outputs": [],
   "source": [
    "new_housing['random'] = np.random.randint(0,10,size=(len(new_housing),1))"
   ]
  },
  {
   "cell_type": "code",
   "execution_count": 8,
   "metadata": {},
   "outputs": [
    {
     "data": {
      "text/plain": [
       "Index(['Longitude', 'Latitude', 'Age', 'Total rooms', 'Total bedrooms',\n",
       "       'Population', 'Households', 'Income', 'Price', 'Ocean proximity'],\n",
       "      dtype='object')"
      ]
     },
     "execution_count": 8,
     "metadata": {},
     "output_type": "execute_result"
    }
   ],
   "source": [
    "new_housing.columns"
   ]
  },
  {
   "cell_type": "markdown",
   "metadata": {},
   "source": [
    "#### Export to csv"
   ]
  },
  {
   "cell_type": "code",
   "execution_count": 10,
   "metadata": {},
   "outputs": [],
   "source": [
    "export_csv = new_housing.to_csv (r'C:\\Users\\French -- in English\\Documents\\SistemasDeRecomendação\\California_housing\\California_housing\\housing\\new_housing.csv', index = None, header=True)"
   ]
  }
 ],
 "metadata": {
  "kernelspec": {
   "display_name": "Python 3",
   "language": "python",
   "name": "python3"
  },
  "language_info": {
   "codemirror_mode": {
    "name": "ipython",
    "version": 3
   },
   "file_extension": ".py",
   "mimetype": "text/x-python",
   "name": "python",
   "nbconvert_exporter": "python",
   "pygments_lexer": "ipython3",
   "version": "3.6.8"
  },
  "varInspector": {
   "cols": {
    "lenName": 16,
    "lenType": 16,
    "lenVar": 40
   },
   "kernels_config": {
    "python": {
     "delete_cmd_postfix": "",
     "delete_cmd_prefix": "del ",
     "library": "var_list.py",
     "varRefreshCmd": "print(var_dic_list())"
    },
    "r": {
     "delete_cmd_postfix": ") ",
     "delete_cmd_prefix": "rm(",
     "library": "var_list.r",
     "varRefreshCmd": "cat(var_dic_list()) "
    }
   },
   "types_to_exclude": [
    "module",
    "function",
    "builtin_function_or_method",
    "instance",
    "_Feature"
   ],
   "window_display": false
  }
 },
 "nbformat": 4,
 "nbformat_minor": 2
}
